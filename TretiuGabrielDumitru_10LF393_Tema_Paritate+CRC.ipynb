{
 "cells": [
  {
   "cell_type": "code",
   "execution_count": 227,
   "metadata": {
    "collapsed": true
   },
   "outputs": [
    {
     "name": "stdout",
     "output_type": "stream",
     "text": [
      "True\n",
      "True\n",
      "[['1' '0' '1' '1' '0' '1' '1' '1']\n",
      " ['1' '0' '1' '0' '1' '0' '1' '0']\n",
      " ['1' '1' '0' '1' '1' '0' '0' '0']\n",
      " ['1' '1' '0' '0' '0' '1' '0' '0']]\n"
     ]
    },
    {
     "data": {
      "text/plain": [
       "'1011011110101010110110001100010'"
      ]
     },
     "execution_count": 227,
     "metadata": {},
     "output_type": "execute_result"
    }
   ],
   "source": [
    "#Paritate bidimensionala\n",
    "import numpy as np\n",
    "def verificare_7(M:str)->bool:\n",
    "    M=np.array(list(M))\n",
    "    if len(M)%7!=0:\n",
    "        raise Exception(\"Numarul elementelor nu este multiplu de 7\")\n",
    "    return True\n",
    "\n",
    "def verificare_0_1(M:str)->bool:\n",
    "    for i in M:\n",
    "        if int(i)!=1 and int(i)!=0:\n",
    "            return False\n",
    "    return True\n",
    "\n",
    "def paritate(M:str)->str:\n",
    "    M=np.array(list(M))\n",
    "    M=M.reshape(int(len(M)/7),7)\n",
    "    coloana=[]\n",
    "    linie=[]\n",
    "    for i in M:\n",
    "        nr=0\n",
    "        for j in i:\n",
    "            if int(j)==1:\n",
    "                nr+=1\n",
    "        coloana.append(nr%2)\n",
    "        \n",
    "    coloana=np.array(coloana)\n",
    "    coloana=coloana.reshape(int(len(coloana)),1)\n",
    "    \n",
    "    for j in M.T:\n",
    "        nr=0\n",
    "        for i in j:\n",
    "            if int(i)==1:\n",
    "                nr+=1\n",
    "        linie.append(nr%2)\n",
    "        \n",
    "    linie.append(0)\n",
    "    linie=np.array(linie)\n",
    "    linie=linie.reshape(1,int(len(linie)))\n",
    "    M=np.append(M,coloana,axis=1)\n",
    "    M=np.append(M,linie,axis=0)\n",
    "    print(M)\n",
    "    mesaj=''.join([str(j) for i in M for j in i])[:-1]\n",
    "    return mesaj\n",
    "    \n",
    "    \n",
    "M='101101110101011101100'\n",
    "print(verificare_7(M))\n",
    "print(verificare_0_1(M))\n",
    "print(paritate(M))\n",
    "\n"
   ]
  },
  {
   "cell_type": "code",
   "execution_count": 103,
   "metadata": {},
   "outputs": [
    {
     "name": "stdout",
     "output_type": "stream",
     "text": [
      "1101010100111001101111\n",
      "Mesaj fara erori\n",
      "1101010100111001111111\n",
      "Mesaj cu erori\n"
     ]
    }
   ],
   "source": [
    "#CRC\n",
    "from random import randint\n",
    "\n",
    "def xor(a:int,b:int):\n",
    "    \n",
    "    rezultat=[]\n",
    "    for i in range(1,len(b)):\n",
    "        if(a[i]==b[i]):\n",
    "            rezultat.append('0')\n",
    "        else:\n",
    "            rezultat.append('1')\n",
    "    return ''.join(rezultat)\n",
    "\n",
    "def random(M:str):\n",
    "    indice=randint(1,len(M))\n",
    "    M=list(M)\n",
    "    M[indice]=str((int(M[indice])+1)%2)\n",
    "    return ''.join(M)\n",
    "\n",
    "def verificare(M:str,C:str):\n",
    "    R=impartire(M,C)\n",
    "    if len(set(R))==1 and R[0]=='0':\n",
    "        return \"Mesaj fara erori\"\n",
    "    else:\n",
    "        return \"Mesaj cu erori\"\n",
    "    \n",
    "def impartire(M:str,C:str):\n",
    "    \n",
    "    x = len(C) \n",
    "    R = M[0 : x] \n",
    "    while x < len(M): \n",
    "        if R[0] == '1': \n",
    "            R = xor(C, R) + M[x] \n",
    "        else:  \n",
    "            R = xor('0'*x, R) + M[x] \n",
    "        x += 1\n",
    "    if R[0] == '1': \n",
    "        R = xor(C, R) \n",
    "    else: \n",
    "        R = xor('0'*x, R) \n",
    "    return R \n",
    "\n",
    "M=\"1101010100111001101\"\n",
    "C=\"1011\"\n",
    "T=M+'0'*(len(C)-1)\n",
    "Mprim=M+impartire(T,C)\n",
    "print(Mprim)\n",
    "print(verificare(Mprim,C))\n",
    "Mprim=random(Mprim)\n",
    "print(Mprim)\n",
    "print(verificare(Mprim,C))"
   ]
  },
  {
   "cell_type": "code",
   "execution_count": null,
   "metadata": {},
   "outputs": [],
   "source": []
  },
  {
   "cell_type": "code",
   "execution_count": null,
   "metadata": {},
   "outputs": [],
   "source": []
  },
  {
   "cell_type": "code",
   "execution_count": null,
   "metadata": {},
   "outputs": [],
   "source": []
  }
 ],
 "metadata": {
  "kernelspec": {
   "display_name": "Python 3",
   "language": "python",
   "name": "python3"
  },
  "language_info": {
   "codemirror_mode": {
    "name": "ipython",
    "version": 3
   },
   "file_extension": ".py",
   "mimetype": "text/x-python",
   "name": "python",
   "nbconvert_exporter": "python",
   "pygments_lexer": "ipython3",
   "version": "3.8.5"
  }
 },
 "nbformat": 4,
 "nbformat_minor": 4
}
